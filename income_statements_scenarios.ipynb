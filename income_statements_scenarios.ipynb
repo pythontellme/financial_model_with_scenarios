{
 "cells": [
  {
   "cell_type": "markdown",
   "metadata": {},
   "source": [
    "# Imports and setup"
   ]
  },
  {
   "cell_type": "code",
   "execution_count": null,
   "metadata": {},
   "outputs": [],
   "source": [
    "import pandas as pd\n",
    "import numpy as np\n",
    "from matplotlib import pyplot as plt\n",
    "from ipywidgets import interact, interactive, fixed, interact_manual\n",
    "import ipywidgets as widgets\n",
    "pd.options.display.float_format = '{:,.2f}'.format\n",
    "%matplotlib inline"
   ]
  },
  {
   "cell_type": "markdown",
   "metadata": {},
   "source": [
    "# Variables"
   ]
  },
  {
   "cell_type": "code",
   "execution_count": null,
   "metadata": {},
   "outputs": [],
   "source": [
    "subtotals_dict = {}\n",
    "base_yrs = range(2017,2020)\n",
    "forecast_yrs = range(2020,2022)\n",
    "all_yrs = range(base_yrs[0], forecast_yrs[-1]+1)\n",
    "df_common_size = pd.DataFrame(index = all_yrs)\n",
    "df_growth = pd.DataFrame(index = all_yrs)"
   ]
  },
  {
   "cell_type": "markdown",
   "metadata": {},
   "source": [
    "# Functions"
   ]
  },
  {
   "cell_type": "code",
   "execution_count": null,
   "metadata": {},
   "outputs": [],
   "source": [
    "def cleanup():\n",
    "    ''' This function imports data from csv file \n",
    "    and returns a dataframe object with \n",
    "    income statement data.'''\n",
    "    \n",
    "    # Read csv into dataframe\n",
    "    df = pd.read_csv('financial_data.csv')\n",
    "    \n",
    "    # Change strings to lowercase\n",
    "    df.columns = df.columns.str.lower()\n",
    "    df['item'] = df['item'].str.lower()\n",
    "    df['statement'] = df['statement'].str.lower()\n",
    "    \n",
    "    # Filter income statement data and drop column\n",
    "    df = df[df['statement']=='income']\n",
    "    df = df.drop(['statement'], axis=1)\n",
    "    \n",
    "    # Set income statement items as index and\n",
    "    # transpose dataframe\n",
    "    df = df.set_index('item')\n",
    "    df = df.T\n",
    "    \n",
    "    # Set years in index as ints\n",
    "    df.index = df.index.astype(int)\n",
    "    \n",
    "    return df"
   ]
  },
  {
   "cell_type": "code",
   "execution_count": null,
   "metadata": {},
   "outputs": [],
   "source": [
    "# Calculate subtotals in income statement\n",
    "def calc():\n",
    "    ''' This function calculates the value\n",
    "    of each subtotal column in the dataframe df.'''\n",
    "    \n",
    "    df['net revenues'] = df['revenue'] - df['cost of goods sold']\n",
    "    df['ebitda'] = (df['net revenues']-\n",
    "                    df['cost of goods sold']-\n",
    "                    df['salaries and benefits']-\n",
    "                    df['rent and overhead'])\n",
    "    df['ebit'] = df['ebitda'] - df['interest']\n",
    "    df['earnings before taxes'] = df['ebit'] - df['interest']\n",
    "    df['earnings after taxes'] = df['earnings before taxes'] - df['taxes']"
   ]
  },
  {
   "cell_type": "code",
   "execution_count": null,
   "metadata": {},
   "outputs": [],
   "source": [
    "def forecast_rev(growth_perc):\n",
    "    ''' This function is used to forecast the\n",
    "    values in the relevant column.'''\n",
    "    \n",
    "    for yr in forecast_yrs:\n",
    "        df.loc[yr,'revenue'] = df.loc[yr-1,'revenue']*(1 + growth_perc)\n",
    "    calc()"
   ]
  },
  {
   "cell_type": "code",
   "execution_count": null,
   "metadata": {},
   "outputs": [],
   "source": [
    "def forecast_cogs(cogs_perc_rev):\n",
    "    ''' This function is used to forecast the\n",
    "    values in the relevant column.'''\n",
    "    \n",
    "    for yr in forecast_yrs:\n",
    "        df.loc[yr, 'cost of goods sold'] = cogs_perc_rev * df.loc[yr, 'revenue']\n",
    "    calc()"
   ]
  },
  {
   "cell_type": "code",
   "execution_count": null,
   "metadata": {},
   "outputs": [],
   "source": [
    "def forecast_salaries(sals_perc_rev):\n",
    "    ''' This function is used to forecast the\n",
    "    values in the relevant column.'''\n",
    "    \n",
    "    for yr in forecast_yrs:\n",
    "        df.loc[yr, 'salaries and benefits'] = sals_perc_rev * df.loc[yr, 'revenue']\n",
    "    calc()"
   ]
  },
  {
   "cell_type": "code",
   "execution_count": null,
   "metadata": {},
   "outputs": [],
   "source": [
    "def forecast_rent_overhead(rent_overhead):\n",
    "    ''' This function is used to forecast the\n",
    "    values in the relevant column.'''\n",
    "    \n",
    "    for yr in forecast_yrs:\n",
    "        df.loc[yr, 'rent and overhead'] = rent_overhead\n",
    "    calc()"
   ]
  },
  {
   "cell_type": "code",
   "execution_count": null,
   "metadata": {},
   "outputs": [],
   "source": [
    "def forecast_depreciation(depr):\n",
    "    ''' This function is used to forecast the\n",
    "    values in the relevant column.'''\n",
    "    \n",
    "    for yr in forecast_yrs:\n",
    "        df.loc[yr, 'depreciation & amortization'] = depr\n",
    "    calc()"
   ]
  },
  {
   "cell_type": "code",
   "execution_count": null,
   "metadata": {},
   "outputs": [],
   "source": [
    "def forecast_interest(interest):\n",
    "    ''' This function is used to forecast the\n",
    "    values in the relevant column.'''\n",
    "    \n",
    "    for yr in forecast_yrs:\n",
    "        df.loc[yr, 'interest'] = interest\n",
    "    calc()"
   ]
  },
  {
   "cell_type": "code",
   "execution_count": null,
   "metadata": {},
   "outputs": [],
   "source": [
    "def forecast_taxes(tax_perc):\n",
    "    ''' This function is used to forecast the\n",
    "    values in the relevant column.'''\n",
    "    \n",
    "    for yr in forecast_yrs:\n",
    "        df.loc[yr, 'taxes'] = tax_perc * df.loc[yr, 'earnings before taxes']\n",
    "    calc()"
   ]
  },
  {
   "cell_type": "code",
   "execution_count": null,
   "metadata": {},
   "outputs": [],
   "source": [
    "def subtotals(num_row, name_row):\n",
    "    ''' This function is used to insert\n",
    "    colums in the DataFrame df - the columns\n",
    "    are displayed as rows in the transposed\n",
    "    DataFrame.'''\n",
    "    \n",
    "    df.insert(num_row, name_row, np.nan)\n",
    "    subtotals_dict[name_row] = num_row"
   ]
  },
  {
   "cell_type": "code",
   "execution_count": null,
   "metadata": {},
   "outputs": [],
   "source": [
    "def common_size():\n",
    "    ''' This function is used to create a\n",
    "    DataFrame where all columns are a % of\n",
    "    revenues.'''\n",
    "    \n",
    "    df_common_size['revenue'] = 1\n",
    "    for col in df.columns[1:]:\n",
    "        df_common_size[col] = df[col]/df['revenue']\n",
    "    display(df_common_size.T)"
   ]
  },
  {
   "cell_type": "code",
   "execution_count": null,
   "metadata": {},
   "outputs": [],
   "source": [
    "def growth():\n",
    "    ''' This function is used to create a\n",
    "    DataFrame where each element in a column\n",
    "    is expressed as the % growth of the previous\n",
    "    element in the same column.'''\n",
    "    \n",
    "    for col in df.columns:\n",
    "        df_growth[col] = df[col].pct_change()\n",
    "    display(df_growth.T)"
   ]
  },
  {
   "cell_type": "code",
   "execution_count": null,
   "metadata": {},
   "outputs": [],
   "source": [
    "def plot(df):\n",
    "    ''' This function is used to plot the specified\n",
    "    columns in the DataFrame df as a bar chart.'''\n",
    "    \n",
    "    plt.bar(df.index+.17,df['earnings after taxes'], width=0.35, label='earnings after tax')\n",
    "    plt.bar(df.index-.17,df['revenue'], width=0.35, label='revenue')\n",
    "    plt.legend()\n",
    "    "
   ]
  },
  {
   "cell_type": "code",
   "execution_count": null,
   "metadata": {},
   "outputs": [],
   "source": [
    "def bold(x):\n",
    "    '''This function returns lists which are\n",
    "    used in the format_table function in order to\n",
    "    format the DataFrame df.'''\n",
    "    \n",
    "    bold_rows = [2, 5, 7, 9, 11]\n",
    "    format_list = []\n",
    "    counter = 0\n",
    "    \n",
    "    for counter, v in enumerate(x):\n",
    "        if counter in bold_rows:\n",
    "            format_list.append('font-weight: bold') \n",
    "        else:\n",
    "            format_list.append('')\n",
    "        counter += 1\n",
    "    return format_list"
   ]
  },
  {
   "cell_type": "code",
   "execution_count": null,
   "metadata": {},
   "outputs": [],
   "source": [
    "def format_table():\n",
    "    '''This function applies formatting to the\n",
    "    DataFrame df and returns the DataFrame.'''\n",
    "    \n",
    "    return df.T.style.apply(bold).format(\"{:,.0f}\")"
   ]
  },
  {
   "cell_type": "code",
   "execution_count": null,
   "metadata": {},
   "outputs": [],
   "source": [
    "def f(rev_growth_perc,\n",
    "      cogs_perc_rev,\n",
    "      sals_perc_rev,\n",
    "      rent_overhead,\n",
    "      depr,\n",
    "      interest,\n",
    "      tax_perc):\n",
    "    ''' This function is used as to call all relevant functions\n",
    "    in order to fill in all of the forecast figures, calculate\n",
    "    subtotals, display DataFrames and plot relevant items.'''\n",
    "    \n",
    "    forecast_rev(rev_growth_perc)\n",
    "    forecast_cogs(cogs_perc_rev)\n",
    "    forecast_salaries(sals_perc_rev)\n",
    "    forecast_rent_overhead(rent_overhead)\n",
    "    forecast_depreciation(depr)\n",
    "    forecast_interest(interest)\n",
    "    forecast_taxes(tax_perc)\n",
    "    calc()\n",
    "    display(df.T)\n",
    "    growth()\n",
    "    common_size()\n",
    "    plot(df)"
   ]
  },
  {
   "cell_type": "markdown",
   "metadata": {},
   "source": [
    "# Create income statement"
   ]
  },
  {
   "cell_type": "code",
   "execution_count": null,
   "metadata": {},
   "outputs": [],
   "source": [
    "# Call cleanup function and create initial\n",
    "# DataFrame\n",
    "df = cleanup()\n",
    "df"
   ]
  },
  {
   "cell_type": "code",
   "execution_count": null,
   "metadata": {},
   "outputs": [],
   "source": [
    "# Call subtotals function to create columns\n",
    "# with subtotals for income statement.\n",
    "subtotals(2, 'net revenues')\n",
    "subtotals(5, 'ebitda')\n",
    "subtotals(7, 'ebit')\n",
    "subtotals(9, 'earnings before taxes')\n",
    "subtotals(11, 'earnings after taxes')\n",
    "\n",
    "# Display transposed view of DataFrame\n",
    "df.T"
   ]
  },
  {
   "cell_type": "code",
   "execution_count": null,
   "metadata": {
    "scrolled": true
   },
   "outputs": [],
   "source": [
    "# Call calc funtion to calculate values of\n",
    "# subtotal columns in DataFrame df.\n",
    "calc()\n",
    "df.T"
   ]
  },
  {
   "cell_type": "markdown",
   "metadata": {},
   "source": [
    "# Assumptions and scenario widgets"
   ]
  },
  {
   "cell_type": "code",
   "execution_count": null,
   "metadata": {},
   "outputs": [],
   "source": [
    "# Pass assumptions to 'interactive' function from ipywidgets library\n",
    "# to generate widgets which can be used to manually control\n",
    "# assumptions in 'forecast' functions.\n",
    "w = interactive(f,\n",
    "                rev_growth_perc = 0.2,\n",
    "                cogs_perc_rev = 0.1,\n",
    "                sals_perc_rev = 0.2,\n",
    "                rent_overhead = 75,\n",
    "                depr = 100,\n",
    "                interest = 20,\n",
    "                tax_perc = 0.2)"
   ]
  },
  {
   "cell_type": "code",
   "execution_count": null,
   "metadata": {
    "scrolled": true
   },
   "outputs": [],
   "source": [
    "display(w)"
   ]
  }
 ],
 "metadata": {
  "kernelspec": {
   "display_name": "Python 3",
   "language": "python",
   "name": "python3"
  },
  "language_info": {
   "codemirror_mode": {
    "name": "ipython",
    "version": 3
   },
   "file_extension": ".py",
   "mimetype": "text/x-python",
   "name": "python",
   "nbconvert_exporter": "python",
   "pygments_lexer": "ipython3",
   "version": "3.8.1"
  }
 },
 "nbformat": 4,
 "nbformat_minor": 4
}
